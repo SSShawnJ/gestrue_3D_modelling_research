{
 "cells": [
  {
   "cell_type": "markdown",
   "metadata": {},
   "source": [
    "# Antenna Calibration\n",
    "\n",
    "Flowchart of an algorithm to carry out the reference device calibration.\n",
    "<img src=\"images/main_workflow.png\"style=\"width: 400px; height:600px\">"
   ]
  },
  {
   "cell_type": "code",
   "execution_count": 1,
   "metadata": {
    "collapsed": true
   },
   "outputs": [],
   "source": [
    "import numpy as np"
   ]
  },
  {
   "cell_type": "markdown",
   "metadata": {},
   "source": [
    "EDM matrix representation:\n",
    "<img src=\"images/EDM_matrix.png\"style=\"width: 500px; height:100px\">"
   ]
  },
  {
   "cell_type": "code",
   "execution_count": 2,
   "metadata": {},
   "outputs": [
    {
     "name": "stdout",
     "output_type": "stream",
     "text": [
      "EDM Actual:\n",
      "[[ 0.     7.914  7.914]\n",
      " [ 7.914  0.     7.914]\n",
      " [ 7.914  7.914  0.   ]]\n",
      "EDM Measured:\n",
      "[[   0.      162.1613  162.2531]\n",
      " [ 162.172     0.      162.2449]\n",
      " [ 162.2155  162.2582    0.    ]]\n",
      "\n",
      "ToF Actual:\n",
      "[[  0.    26.38  26.38]\n",
      " [ 26.38   0.    26.38]\n",
      " [ 26.38  26.38   0.  ]]\n",
      "ToF Measured:\n",
      "[[   0.          540.53766667  540.84366667]\n",
      " [ 540.57333333    0.          540.81633333]\n",
      " [ 540.71833333  540.86066667    0.        ]]\n",
      "\n"
     ]
    }
   ],
   "source": [
    "#hyper-parameters\n",
    "\n",
    "#type in the EDM actual and EDM measure array row by row (dXY=0 when X=Y)\n",
    "EDM_actual=np.array([[0,7.914,7.914],[7.914,0,7.914],[7.914,7.914,0]])\n",
    "EDM_measure=np.array([[0,162.1613,162.2531],[162.1720,0,162.2449],[162.2155,162.2582,0]])\n",
    "\n",
    "print(\"EDM Actual:\\n\"+str(EDM_actual))\n",
    "print(\"EDM Measured:\\n\"+ str(EDM_measure)+ '\\n')\n",
    "\n",
    "ToF_actual=EDM_actual * 10/3  # in nano seconds(ns), using speed of light 3*10^8\n",
    "ToF_measure=EDM_measure * 10/3\n",
    "\n",
    "print(\"ToF Actual:\\n\"+str(ToF_actual))\n",
    "print(\"ToF Measured:\\n\"+ str(ToF_measure)+'\\n')"
   ]
  },
  {
   "cell_type": "code",
   "execution_count": 3,
   "metadata": {},
   "outputs": [
    {
     "name": "stdout",
     "output_type": "stream",
     "text": [
      "number of device: 3\n",
      "# of iterations: 300\n",
      "number of random generalized candidates: 1000\n",
      "mean: 513\n",
      "variance 6\n"
     ]
    }
   ],
   "source": [
    "N=EDM_actual.shape[0]  # number of device\n",
    "print(\"number of device:\", N)\n",
    "\n",
    "iterations = 300 #number of iterations that the optimization algorithm runs\n",
    "print(\"# of iterations:\",iterations)\n",
    "\n",
    "candidates_num=1000\n",
    "print(\"number of random generalized candidates:\",candidates_num)\n",
    "\n",
    "mean=513 #ns\n",
    "print(\"mean:\",mean)\n",
    "var=6    #ns\n",
    "print(\"variance\",var)\n",
    "\n",
    "#initialize antenna_delay array, shape is (candidates_num, N), uniform distribution around mean and variance\n",
    "antenna_delay_candidates= 513+np.random.uniform(-1*var,var,size=(candidates_num,N)) \n",
    "#print(\"initialize antenna_delay array: \", antenna_delay_candidates)"
   ]
  },
  {
   "cell_type": "markdown",
   "metadata": {},
   "source": [
    "Flowchart for populate and evaluate function.\n",
    "<table width=800,height=700>\n",
    "    <tr>\n",
    "        <td><img src=\"images/populate.png\"style=\"width: 400px; height:600px\"></td>\n",
    "        <td><img src=\"images/evaluate.png\"style=\"width: 400px; height:600px\"></td>\n",
    "    </tr>\n",
    "\n",
    "</table>"
   ]
  },
  {
   "cell_type": "code",
   "execution_count": 4,
   "metadata": {},
   "outputs": [],
   "source": [
    "def populate(antenna_delay_candidates,perturbation):\n",
    "    n_select=int(antenna_delay_candidates.shape[0]/4)\n",
    "    new_candidates=antenna_delay_candidates[:n_select]\n",
    "    \n",
    "    final_candidates=np.array(new_candidates)\n",
    "    for i in range(3):\n",
    "        random_perturbation=new_candidates+np.random.uniform(-1*perturbation,perturbation,size=new_candidates.shape)\n",
    "        final_candidates=np.vstack([final_candidates,random_perturbation])\n",
    "    return final_candidates\n",
    "\n",
    "def evaluate(antenna_delay_candidates,ToF_actual, ToF_measure):\n",
    "    \n",
    "    N=antenna_delay_candidates.shape[0]\n",
    "    score=np.zeros((N,))\n",
    "    \n",
    "    for k in range(antenna_delay_candidates.shape[0]):\n",
    "        antenna_delay=antenna_delay_candidates[k]\n",
    "        ToF_candidates=np.zeros(( ToF_measure.shape))\n",
    "        for i in range(ToF_candidates.shape[0]):\n",
    "            for j in range(ToF_candidates.shape[1]):\n",
    "                if(i != j):\n",
    "                    ToF_candidates[i][j]=-1/2*antenna_delay[i]-1/2*antenna_delay[j]+ToF_measure[i][j]\n",
    "        score[k]=np.linalg.norm(ToF_actual-ToF_candidates,np.inf)\n",
    "    \n",
    "    idx=score.argsort()  #sort the score low to high\n",
    "    return np.take(antenna_delay_candidates,idx,axis=0),score[idx[0]]\n",
    "    "
   ]
  },
  {
   "cell_type": "code",
   "execution_count": 5,
   "metadata": {},
   "outputs": [],
   "source": [
    "perturbation=0.2 #ns\n",
    "final_score=0\n",
    "for i in range(iterations):\n",
    "    if(i>0):\n",
    "        if(i%20==0):\n",
    "            perturbation/=2\n",
    "        antenna_delay_candidates=populate(antenna_delay_candidates,perturbation)  \n",
    "        \n",
    "    antenna_delay_candidates,final_score=evaluate(antenna_delay_candidates,ToF_actual, ToF_measure)\n",
    "    "
   ]
  },
  {
   "cell_type": "code",
   "execution_count": 6,
   "metadata": {},
   "outputs": [
    {
     "name": "stdout",
     "output_type": "stream",
     "text": [
      "antenna delay: [ 514.08517289  514.23295066  514.7080617 ] \n",
      "final norm score: 0.0684444811546\n"
     ]
    }
   ],
   "source": [
    "final_antenna_delay=antenna_delay_candidates[0]\n",
    "print(\"antenna delay:\",final_antenna_delay,\"\\nfinal norm score:\",final_score)"
   ]
  },
  {
   "cell_type": "code",
   "execution_count": 7,
   "metadata": {},
   "outputs": [],
   "source": [
    "# EDM_actual=np.array([[0,7.914,7.914],[7.914,0,7.914],[7.914,7.914,0]])\n",
    "# EDM_measure=np.array([[0,162.1613,162.2531],[162.1720,0,162.2449],[162.2155,162.2582,0]])\n",
    "\n",
    "# antenna_delay=np.array([514.4747,514.5911,515.0413])\n",
    "# ToF_candidates=EDM_measure\n",
    "\n",
    "# for i in range(ToF_candidates.shape[0]):\n",
    "#     for j in range(ToF_candidates.shape[1]):\n",
    "#         if(i != j):\n",
    "#             ToF_candidates[i][j]=-1/2*antenna_delay[i]-1/2*antenna_delay[j]+ToF_measure[i][j]\n",
    "            \n",
    "# print(np.linalg.norm(ToF_actual-ToF_candidates,np.inf))"
   ]
  },
  {
   "cell_type": "code",
   "execution_count": null,
   "metadata": {
    "collapsed": true
   },
   "outputs": [],
   "source": []
  }
 ],
 "metadata": {
  "kernelspec": {
   "display_name": "Python 3",
   "language": "python",
   "name": "python3"
  },
  "language_info": {
   "codemirror_mode": {
    "name": "ipython",
    "version": 3
   },
   "file_extension": ".py",
   "mimetype": "text/x-python",
   "name": "python",
   "nbconvert_exporter": "python",
   "pygments_lexer": "ipython3",
   "version": "3.6.2"
  }
 },
 "nbformat": 4,
 "nbformat_minor": 2
}
